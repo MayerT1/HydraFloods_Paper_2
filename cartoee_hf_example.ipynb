{
  "nbformat": 4,
  "nbformat_minor": 0,
  "metadata": {
    "colab": {
      "name": "Copy of cartoee_hf_example.ipynb",
      "private_outputs": true,
      "provenance": [],
      "collapsed_sections": [],
      "include_colab_link": true
    },
    "kernelspec": {
      "name": "python3",
      "display_name": "Python 3"
    }
  },
  "cells": [
    {
      "cell_type": "markdown",
      "metadata": {
        "id": "view-in-github",
        "colab_type": "text"
      },
      "source": [
        "<a href=\"https://colab.research.google.com/github/MayerT1/HydraFloods_Paper_2/blob/main/cartoee_hf_example.ipynb\" target=\"_parent\"><img src=\"https://colab.research.google.com/assets/colab-badge.svg\" alt=\"Open In Colab\"/></a>"
      ]
    },
    {
      "cell_type": "code",
      "metadata": {
        "id": "CAGbJxm5FqyN"
      },
      "source": [
        "# mount the google drive so that we can save credentials\n",
        "from google.colab import drive\n",
        "drive.mount('/content/drive')"
      ],
      "execution_count": null,
      "outputs": []
    },
    {
      "cell_type": "code",
      "metadata": {
        "id": "dnOjYtZ4Gt0m"
      },
      "source": [
        "! sudo add-apt-repository -y ppa:ubuntugis/ubuntugis-unstable\n",
        "! sudo apt-get update\n",
        "! sudo apt-get install libudunits2-dev libgdal-dev libgeos-dev libproj-dev\n",
        "! sudo apt-get install libprotobuf-dev protobuf-compiler libv8-dev libjq-dev"
      ],
      "execution_count": null,
      "outputs": []
    },
    {
      "cell_type": "code",
      "metadata": {
        "id": "HnzE6eodFkxx"
      },
      "source": [
        "# install the packages needed \n",
        "!pip install geemap cartopy"
      ],
      "execution_count": null,
      "outputs": []
    },
    {
      "cell_type": "code",
      "metadata": {
        "id": "Ssa7wyR_F03u"
      },
      "source": [
        "%pylab inline"
      ],
      "execution_count": null,
      "outputs": []
    },
    {
      "cell_type": "code",
      "metadata": {
        "id": "kgF8bfBvFntb"
      },
      "source": [
        "import ee\n",
        "import geemap.eefolium as geemap\n",
        "from geemap import cartoee\n",
        "import cartopy.crs as ccrs"
      ],
      "execution_count": null,
      "outputs": []
    },
    {
      "cell_type": "code",
      "metadata": {
        "id": "TOkte2CCF2tg"
      },
      "source": [
        "# initial authentication workflow\n",
        "# it will ask to authenticate if no credentials are available\n",
        "# will also initialize ee session\n",
        "_ = geemap.Map()"
      ],
      "execution_count": null,
      "outputs": []
    },
    {
      "cell_type": "markdown",
      "metadata": {
        "id": "ATVBmxsJAk8M"
      },
      "source": [
        "# Kels Example"
      ]
    },
    {
      "cell_type": "code",
      "metadata": {
        "id": "vefhhp4fH00N"
      },
      "source": [
        "# points = ee.FeatureCollection(\"users/kelmarkert/kh_planet_water_samples_2019\").map(\n",
        "#     lambda x: ee.Feature(x).set(\"Date_str\",ee.Date(x.get(\"Date_str\")).format(\"YYYY-MM-dd\"))\n",
        "# ).filter(ee.Filter.eq(\"Date_str\",\"2019-10-05\"))"
      ],
      "execution_count": null,
      "outputs": []
    },
    {
      "cell_type": "code",
      "metadata": {
        "id": "j_AzU0WYNNPL"
      },
      "source": [
        "# water_pts = points.filter(ee.Filter.eq(\"WaterPlane\",1)).geometry().coordinates().getInfo()\n",
        "# nowater_pts = points.filter(ee.Filter.eq(\"WaterPlane\",0)).geometry().coordinates().getInfo()\n",
        "\n",
        "# # print(water_pts)"
      ],
      "execution_count": null,
      "outputs": []
    },
    {
      "cell_type": "code",
      "metadata": {
        "id": "y4dqMTkTNaDr"
      },
      "source": [
        "# water_pts = list(zip(*water_pts))\n",
        "# nowater_pts = list(zip(*nowater_pts))"
      ],
      "execution_count": null,
      "outputs": []
    },
    {
      "cell_type": "code",
      "metadata": {
        "id": "fZr-ryYQIYxY"
      },
      "source": [
        "# bbox = points.geometry().bounds()\n",
        "# bbox_coords = bbox.coordinates().getInfo()[0]\n",
        "# bbox_coords"
      ],
      "execution_count": null,
      "outputs": []
    },
    {
      "cell_type": "code",
      "metadata": {
        "id": "LHGuLtPeF4T0"
      },
      "source": [
        "# s1 = (\n",
        "#     ee.ImageCollection(\"COPERNICUS/S1_GRD\")\n",
        "#     .filterBounds(bbox)\n",
        "#     .filterDate(\"2019-10-05\",\"2019-10-06\")\n",
        "#     .select(\"VV\")\n",
        "#     .mosaic()\n",
        "# )"
      ],
      "execution_count": null,
      "outputs": []
    },
    {
      "cell_type": "code",
      "metadata": {
        "id": "Q3X8n0FlMiHX"
      },
      "source": [
        "# water_img = (\n",
        "#     ee.ImageCollection(\"projects/hydrafloods-wfp/assets/standard_fusion_kh_validation\")\n",
        "#     .filterDate(\"2019-10-05\",\"2019-10-06\")\n",
        "#     .filter(ee.Filter.eq(\"product\",\"water\"))\n",
        "#     .select(\"water\")\n",
        "#     .mosaic()\n",
        "#     .selfMask()\n",
        "# )"
      ],
      "execution_count": null,
      "outputs": []
    },
    {
      "cell_type": "code",
      "metadata": {
        "id": "BbdOEjAlIzUh"
      },
      "source": [
        "# region = [bbox_coords[0][0],bbox_coords[0][1],bbox_coords[2][0],bbox_coords[2][1]]\n",
        "# region"
      ],
      "execution_count": null,
      "outputs": []
    },
    {
      "cell_type": "code",
      "metadata": {
        "id": "Boz7BjRKKhaJ"
      },
      "source": [
        "# s1_vis = {\"bands\":\"VV\",\"min\":-25,\"max\":0}\n",
        "# water_vis = {\"bands\":\"water\",\"min\":0,\"max\":1,\"palette\":\"black,navy\"}"
      ],
      "execution_count": null,
      "outputs": []
    },
    {
      "cell_type": "code",
      "metadata": {
        "id": "uh_sVlRbKXyS"
      },
      "source": [
        "# fig,ax = plt.subplots(ncols=2,figsize=(10,7), subplot_kw={'projection': ccrs.PlateCarree()})\n",
        "\n",
        "# # plot the map over the region of interest\n",
        "# cartoee.add_layer(ax[0],s1,vis_params=s1_vis,region=region)\n",
        "# ax[0].scatter(*water_pts,color=\"blue\")\n",
        "# ax[0].scatter(*nowater_pts,color=\"beige\")\n",
        "\n",
        "# # plot the map over the region of interest\n",
        "# cartoee.add_layer(ax[1],s1,vis_params=s1_vis,region=region)\n",
        "# cartoee.add_layer(ax[1],water_img,vis_params=water_vis,region=region)\n",
        "\n",
        "# # add the gridlines and specify that the xtick labels be rotated 45 degrees\n",
        "# cartoee.add_gridlines(ax[0],interval=0.5,xtick_rotation=45,linestyle=\":\")\n",
        "# cartoee.add_gridlines(ax[1],interval=0.5,xtick_rotation=45,linestyle=\":\")\n",
        "\n",
        "# show()"
      ],
      "execution_count": null,
      "outputs": []
    },
    {
      "cell_type": "markdown",
      "metadata": {
        "id": "GC3tCQMdP0kw"
      },
      "source": [
        "# Load Base/background data"
      ]
    },
    {
      "cell_type": "code",
      "metadata": {
        "id": "2dnRm3Sd0sbz"
      },
      "source": [
        "\r\n",
        "s1 = ee.ImageCollection(\"COPERNICUS/S1_GRD\")"
      ],
      "execution_count": null,
      "outputs": []
    },
    {
      "cell_type": "code",
      "metadata": {
        "id": "A-US7dP5CL1D"
      },
      "source": [
        "s1_kel = (\r\n",
        "     ee.ImageCollection(\"COPERNICUS/S1_GRD\")\r\n",
        "     .filterBounds(bbox)\r\n",
        "     .filterDate(\"2019-10-05\",\"2019-10-06\")\r\n",
        "     .select(\"VV\")\r\n",
        "     .mosaic()\r\n",
        " )\r\n"
      ],
      "execution_count": null,
      "outputs": []
    },
    {
      "cell_type": "code",
      "metadata": {
        "id": "YBqpPa-m2SFO"
      },
      "source": [
        "#lsib\r\n",
        "lsib = ee.FeatureCollection(\"USDOS/LSIB_SIMPLE/2017\")\r\n",
        "cam = lsib.filter(ee.Filter.eq('country_na','Cambodia'))"
      ],
      "execution_count": null,
      "outputs": []
    },
    {
      "cell_type": "code",
      "metadata": {
        "id": "Lfk6GBf716t5"
      },
      "source": [
        "#model image sets\r\n",
        "image1 = ee.Image(\"projects/cemis-camp/assets/ai-surface-water-mapping/jrc-adjusted-6ba0bc0ef8458bf4328-S1B_IW_GRDH_1SDV_20190909T225240_20190909T225316_017967_021D3C_06DA\").clip(cam)\r\n",
        "\r\n",
        "image2 = ee.Image(\"projects/cemis-camp/assets/ai-surface-water-mapping/jrc-adjusted-6ba0bc0ef8458bf4328-S1A_IW_GRDH_1SDV_20190911T111130_20190911T111155_028973_034937_F8F8\").clip(cam)\r\n",
        "image3 = ee.Image(\"projects/cemis-camp/assets/ai-surface-water-mapping/jrc-adjusted-6ba0bc0ef8458bf4328-S1A_IW_GRDH_1SDV_20190911T111155_20190911T111220_028973_034937_B91A\").clip(cam)\r\n",
        "\r\n",
        "image4 = ee.Image(\"projects/cemis-camp/assets/ai-surface-water-mapping/jrc-adjusted-6ba0bc0ef8458bf4328-S1B_IW_GRDH_1SDV_20191003T225215_20191003T225240_018317_022818_7389\").clip(cam)\r\n",
        "image5 = ee.Image(\"projects/cemis-camp/assets/ai-surface-water-mapping/jrc-adjusted-6ba0bc0ef8458bf4328-S1B_IW_GRDH_1SDV_20191003T225240_20191003T225316_018317_022818_FDD1\").clip(cam)\r\n",
        "\r\n",
        "image6 = ee.Image(\"projects/cemis-camp/assets/ai-surface-water-mapping/jrc-adjusted-6ba0bc0ef8458bf4328-S1A_IW_GRDH_1SDV_20191005T111156_20191005T111221_029323_035539_0A11\").clip(cam)\r\n",
        "image7 = ee.Image(\"projects/cemis-camp/assets/ai-surface-water-mapping/jrc-adjusted-6ba0bc0ef8458bf4328-S1A_IW_GRDH_1SDV_20191005T111221_20191005T111246_029323_035539_BB97\").clip(cam)\r\n",
        "\r\n",
        "image8 = ee.Image(\"projects/cemis-camp/assets/ai-surface-water-mapping/jrc-adjusted-6ba0bc0ef8458bf4328-S1B_IW_GRDH_1SDV_20191015T225216_20191015T225241_018492_022D84_E76F\").clip(cam)#//.mask(.5);// this mask makes it more transparent\r\n",
        "image9 = ee.Image(\"projects/cemis-camp/assets/ai-surface-water-mapping/jrc-adjusted-6ba0bc0ef8458bf4328-S1B_IW_GRDH_1SDV_20191015T225241_20191015T225317_018492_022D84_A8D6\").clip(cam)#//.mask(.5;\r\n"
      ],
      "execution_count": null,
      "outputs": []
    },
    {
      "cell_type": "code",
      "metadata": {
        "id": "HK1X-IFd2JZd"
      },
      "source": [
        "#model images as EE collections\r\n",
        "JA_BCE_9_9 = ee.ImageCollection.fromImages([ee.Image(image1),]);\r\n",
        "# print('JA_BCE_9_9: ', JA_BCE_9_9);\r\n",
        "\r\n",
        "JA_BCE_9_11 = ee.ImageCollection.fromImages([ee.Image(image2), ee.Image(image3),]);\r\n",
        "# print('JA_BCE_9_11: ', JA_BCE_9_11);\r\n",
        "\r\n",
        "JA_BCE_10_3 = ee.ImageCollection.fromImages([ee.Image(image4), ee.Image(image5),]);\r\n",
        "# print('JA_BCE_10_3: ', JA_BCE_10_3);\r\n",
        "\r\n",
        "JA_BCE_10_5 = ee.ImageCollection.fromImages([ee.Image(image6),ee.Image(image7),]);\r\n",
        "# print('JA_BCE_10_5: ', JA_BCE_10_5);\r\n",
        "\r\n",
        "JA_BCE_10_15 = ee.ImageCollection.fromImages([ee.Image(image8),ee.Image(image9),]);\r\n",
        "#print('JA_BCE_10_5: ', JA_BCE_10_5);\r\n",
        "\r\n",
        "All_JA_BCE = ee.ImageCollection.fromImages([ee.Image(image1),ee.Image(image2), ee.Image(image3),ee.Image(image4), ee.Image(image5),ee.Image(image6),ee.Image(image7),ee.Image(image8),ee.Image(image9)]);"
      ],
      "execution_count": null,
      "outputs": []
    },
    {
      "cell_type": "code",
      "metadata": {
        "id": "-WuUByRh3_xJ"
      },
      "source": [
        "def clipS1footprint(img):\r\n",
        "  a = ee.String(img.get('system:index')).slice(33);\r\n",
        "  return img.clip(s1.filterMetadata('system:index','equals',a).first().geometry()).set('system:time_start',s1.filterMetadata('system:index','equals',a).first().get('system:time_start'));\r\n"
      ],
      "execution_count": null,
      "outputs": []
    },
    {
      "cell_type": "code",
      "metadata": {
        "id": "oEU_d9nW5Tta"
      },
      "source": [
        "JA_BCE_9_9_clip = JA_BCE_9_9.map(clipS1footprint);\r\n",
        "JA_BCE_9_11_clip = JA_BCE_9_11.map(clipS1footprint);\r\n",
        "JA_BCE_10_3_clip = JA_BCE_10_3.map(clipS1footprint);\r\n",
        "JA_BCE_10_5_clip = JA_BCE_10_5.map(clipS1footprint);\r\n",
        "JA_BCE_10_15_clip = JA_BCE_10_15.map(clipS1footprint);\r\n",
        "All_JA_BCE_clip = All_JA_BCE.map(clipS1footprint);\r\n"
      ],
      "execution_count": null,
      "outputs": []
    },
    {
      "cell_type": "markdown",
      "metadata": {
        "id": "ph4ABLEhOqye"
      },
      "source": [
        "## Points"
      ]
    },
    {
      "cell_type": "code",
      "metadata": {
        "id": "_Qu74edyjKIh"
      },
      "source": [
        "collection = ee.FeatureCollection(\r\n",
        "        [ee.Feature(\r\n",
        "            ee.Geometry.Polygon(\r\n",
        "                [[[-109.96562499999999, 42.18351296796647],\r\n",
        "                  [-113.04179687499999, 39.72805832737948],\r\n",
        "                  [-111.63554687499999, 38.98050493805514],\r\n",
        "                  [-107.59257812499999, 41.26517132419739]]]),\r\n",
        "            {\r\n",
        "              \"system:index\": \"0\"\r\n",
        "            }),\r\n",
        "        ee.Feature(\r\n",
        "            ee.Geometry.Polygon(\r\n",
        "                [[[-97.22148437499999, 42.443483183917856],\r\n",
        "                  [-103.46171874999999, 38.224974683387785],\r\n",
        "                  [-98.97929687499999, 35.839812700887975],\r\n",
        "                  [-93.44218749999999, 40.333730400024066]]]),\r\n",
        "            {\r\n",
        "              \"system:index\": \"1\"\r\n",
        "            }),\r\n",
        "        ee.Feature(\r\n",
        "            ee.Geometry.Polygon(\r\n",
        "                [[[-87.81718749999999, 40.40069505477473],\r\n",
        "                  [-90.36601562499999, 37.8095219161184],\r\n",
        "                  [-86.67460937499999, 35.62577747172918],\r\n",
        "                  [-83.59843749999999, 38.70668723048814]]]),\r\n",
        "            {\r\n",
        "              \"system:index\": \"2\"\r\n",
        "            })])\r\n",
        "geometry = ee.Geometry.Point([-98.01249999999999, 39.32129344322187])\r\n",
        "# filt = ee.Filter.bounds(geometry)  # Doesn't work\r\n",
        "filt = ee.Filter.intersects('.geo', geometry)\r\n",
        "filtered = collection.filter(filt)\r\n",
        "print(filtered.getInfo())"
      ],
      "execution_count": null,
      "outputs": []
    },
    {
      "cell_type": "markdown",
      "metadata": {
        "id": "-jFRTzw_jKdQ"
      },
      "source": [
        ""
      ]
    },
    {
      "cell_type": "code",
      "metadata": {
        "id": "XuB50KAtOvRd"
      },
      "source": [
        "pts = ee.FeatureCollection('users/an0052/mekong/hydra/validation/claire_cambodia')\r\n",
        "#print(pts)\r\n",
        "#\r\n",
        "pts_bounds = pts.geometry().bounds()\r\n",
        "pts_coords =pts_bounds.coordinates().getInfo()[0]\r\n",
        "# print(pts_bounds)\r\n",
        "print(pts_coords)\r\n",
        "\r\n",
        "region = [pts_coords[0][0],pts_coords[0][1],pts_coords[2][0],pts_coords[2][1]]\r\n",
        "region\r\n",
        "\r\n",
        "#\r\n",
        "\r\n",
        "# tt = JA_BCE_9_9_clip.geometry().Filter.bounds(pts, ee.ErrorMargin(1))\r\n",
        "# print(tt)\r\n",
        "\r\n",
        "# #filt = ee.Filter.intersects('.geo', pts_bounds)\r\n",
        "# filt = ee.Filter.intersects('pts_bounds')\r\n",
        "# JA_BCE_9_9_clip_filtered = JA_BCE_9_9_clip.filter(filt)\r\n",
        "# print(JA_BCE_9_9_clip_filtered.getInfo())\r\n",
        "\r\n",
        "\r\n",
        "# JA_BCE_9_9_clip_bounds = JA_BCE_9_9_clip.geometry().intersection(pts, ee.ErrorMargin(1))\r\n",
        "# JA_BCE_9_11_clip_bounds = JA_BCE_9_11_clip.geometry().intersection(pts, ee.ErrorMargin(1));\r\n",
        "# JA_BCE_10_3_clip_bounds = JA_BCE_10_3_clip.geometry().intersection(pts, ee.ErrorMargin(1));\r\n",
        "# JA_BCE_10_5_clip_bounds = JA_BCE_10_5_clip.geometry().intersection(pts, ee.ErrorMargin(1));\r\n",
        "# JA_BCE_10_15_clip_bounds = JA_BCE_10_15_clip.geometry().intersection(pts, ee.ErrorMargin(1));\r\n",
        "# All_JA_BCE_clip_bounds = All_JA_BCE_clip.geometry().intersection(pts, ee.ErrorMargin(1));\r\n",
        "# # print(JA_BCE_9_9_clip_bounds)\r\n",
        "\r\n"
      ],
      "execution_count": null,
      "outputs": []
    },
    {
      "cell_type": "code",
      "metadata": {
        "id": "UUF3uggZMPx3"
      },
      "source": [
        "water_pts = pts.filter(ee.Filter.eq(\"WaterPlane\",1)).geometry().coordinates().getInfo()\r\n",
        "nowater_pts = pts.filter(ee.Filter.eq(\"WaterPlane\",0)).geometry().coordinates().getInfo()"
      ],
      "execution_count": null,
      "outputs": []
    },
    {
      "cell_type": "code",
      "metadata": {
        "id": "rLeu39Pk0YyQ"
      },
      "source": [
        "water_pts = list(zip(*water_pts))\r\n",
        "nowater_pts = list(zip(*nowater_pts))"
      ],
      "execution_count": null,
      "outputs": []
    },
    {
      "cell_type": "code",
      "metadata": {
        "id": "oDaovdQh0pE7"
      },
      "source": [
        "# bbox = pts.geometry().bounds()\r\n",
        "# bbox_coords = bbox.coordinates().getInfo()[0]\r\n",
        "# bbox_coords"
      ],
      "execution_count": null,
      "outputs": []
    },
    {
      "cell_type": "code",
      "metadata": {
        "id": "3DlhV7IiWBEv"
      },
      "source": [
        "JA_BCE_9_9_bbox_coords = JA_BCE_9_9_clip_bounds.coordinates().getInfo()[0]\r\n",
        "JA_BCE_9_11_bbox_coords = JA_BCE_9_11_clip_bounds.coordinates().getInfo()[0]\r\n",
        "JA_BCE_10_3_bbox_coords = JA_BCE_10_3_clip_bounds.coordinates().getInfo()[0]\r\n",
        "JA_BCE_10_5_bbox_coords = JA_BCE_10_5_clip_bounds.coordinates().getInfo()[0]\r\n",
        "JA_BCE_10_15_bbox_coords = JA_BCE_10_15_clip_bounds.coordinates().getInfo()[0]\r\n",
        "All_JA_BCE_bbox_coords = All_JA_BCE_clip_bounds.coordinates().getInfo()[0]\r\n",
        "\r\n",
        "print(\"JA_BCE_9_9_bbox_coords\", JA_BCE_9_9_bbox_coords)\r\n",
        "print(\"JA_BCE_9_11_bbox_coords\", JA_BCE_9_11_bbox_coords)\r\n",
        "print(\"JA_BCE_10_3_bbox_coords\", JA_BCE_10_3_bbox_coords)\r\n",
        "print(\"JA_BCE_10_5_bbox_coords\", JA_BCE_10_5_bbox_coords)\r\n",
        "print(\"JA_BCE_10_15_bbox_coords\", JA_BCE_10_15_bbox_coords)\r\n",
        "print(\"All_JA_BCE_bbox_coords\", All_JA_BCE_bbox_coords)"
      ],
      "execution_count": null,
      "outputs": []
    },
    {
      "cell_type": "markdown",
      "metadata": {
        "id": "MJTlPoKeOwEg"
      },
      "source": [
        "# Removing the no-water"
      ]
    },
    {
      "cell_type": "code",
      "metadata": {
        "id": "4AO29A8S_WtH"
      },
      "source": [
        "# ///Removing the no-water\r\n",
        "\r\n",
        "def Remove_water_0 (img):\r\n",
        "  valid = img\r\n",
        "  return valid.set('system:time_start', img.get('system:time_start'));\r\n",
        "\r\n",
        "def Remove_water_pt5 (img):\r\n",
        "  waterImage = img.select('water').gt(.5);\r\n",
        "  return waterImage.set('system:time_start', img.get('system:time_start'));\r\n"
      ],
      "execution_count": null,
      "outputs": []
    },
    {
      "cell_type": "code",
      "metadata": {
        "id": "yWuFsWBZC7HE"
      },
      "source": [
        "JA_BCE_9_9_clip_x = JA_BCE_9_9_clip.map(Remove_water_0)\r\n",
        "JA_BCE_9_9_clip_y = JA_BCE_9_9_clip.map(Remove_water_pt5)\r\n",
        "#\r\n",
        "JA_BCE_9_11_clip_x = JA_BCE_9_11_clip.map(Remove_water_0)\r\n",
        "JA_BCE_9_11_clip_y = JA_BCE_9_11_clip.map(Remove_water_pt5)\r\n",
        "#\r\n",
        "JA_BCE_10_3_clip_x = JA_BCE_10_3_clip.map(Remove_water_0)\r\n",
        "JA_BCE_10_3_clip_y = JA_BCE_10_3_clip.map(Remove_water_pt5)\r\n",
        "#\r\n",
        "JA_BCE_10_5_clip_x = JA_BCE_10_5_clip.map(Remove_water_0)\r\n",
        "JA_BCE_10_5_clip_y = JA_BCE_10_5_clip.map(Remove_water_pt5)\r\n",
        "#\r\n",
        "JA_BCE_10_15_clip_x = JA_BCE_10_15_clip.map(Remove_water_0)\r\n",
        "JA_BCE_10_15_clip_y = JA_BCE_10_15_clip.map(Remove_water_pt5)\r\n",
        "#\r\n",
        "All_JA_BCE_clip_x = All_JA_BCE_clip.map(Remove_water_0)\r\n",
        "All_JA_BCE_clip_y = All_JA_BCE_clip.map(Remove_water_pt5)\r\n",
        "#\r\n"
      ],
      "execution_count": null,
      "outputs": []
    },
    {
      "cell_type": "code",
      "metadata": {
        "id": "cNOI_YqiDjO3"
      },
      "source": [
        "JA_BCE_9_9_clip_x_float = JA_BCE_9_9_clip_x.sum().toFloat();\r\n",
        "JA_BCE_9_9_clip_y_float  = JA_BCE_9_9_clip_y.sum().toFloat();\r\n",
        "#\r\n",
        "JA_BCE_9_11_clip_x_float  = JA_BCE_9_11_clip_x.sum().toFloat();\r\n",
        "JA_BCE_9_11_clip_y_float  = JA_BCE_9_11_clip_y.sum().toFloat();\r\n",
        "#\r\n",
        "JA_BCE_10_3_clip_x_float  = JA_BCE_10_3_clip_x.sum().toFloat();\r\n",
        "JA_BCE_10_3_clip_y_float  = JA_BCE_10_3_clip_y.sum().toFloat();\r\n",
        "#\r\n",
        "JA_BCE_10_5_clip_x_float  = JA_BCE_10_5_clip_x.sum().toFloat();\r\n",
        "JA_BCE_10_5_clip_y_float  = JA_BCE_10_5_clip_y.sum().toFloat();\r\n",
        "#\r\n",
        "JA_BCE_10_15_clip_x_float  = JA_BCE_10_15_clip_x.sum().toFloat();\r\n",
        "JA_BCE_10_15_clip_y_float  = JA_BCE_10_15_clip_y.sum().toFloat();\r\n",
        "#\r\n",
        "All_JA_BCE_clip_x_float  = All_JA_BCE_clip_x.sum().toFloat();\r\n",
        "All_JA_BCE_clip_y_float  = All_JA_BCE_clip_y.sum().toFloat();\r\n"
      ],
      "execution_count": null,
      "outputs": []
    },
    {
      "cell_type": "code",
      "metadata": {
        "id": "cTvs-kxZEfop"
      },
      "source": [
        "JA_BCE_9_9_clip_Water_percent = JA_BCE_9_9_clip_y_float.add(JA_BCE_9_9_clip_x_float)\r\n",
        "JA_BCE_9_11_clip_Water_percent = JA_BCE_9_11_clip_y_float.add(JA_BCE_9_11_clip_x_float)\r\n",
        "JA_BCE_10_3_clip_Water_percent = JA_BCE_10_3_clip_y_float.add(JA_BCE_10_3_clip_x_float)\r\n",
        "JA_BCE_10_5_clip_Water_percent = JA_BCE_10_5_clip_y_float.add(JA_BCE_10_5_clip_x_float)\r\n",
        "JA_BCE_10_15_clip_Water_percent = JA_BCE_10_15_clip_y_float.add(JA_BCE_10_15_clip_x_float)\r\n",
        "All_JA_BCE_clip_Water_percent = All_JA_BCE_clip_y_float.add(All_JA_BCE_clip_x_float)"
      ],
      "execution_count": null,
      "outputs": []
    },
    {
      "cell_type": "code",
      "metadata": {
        "id": "Xo-2RJubFHaC"
      },
      "source": [
        "JA_BCE_9_9_clip_masked = JA_BCE_9_9_clip_Water_percent.gt(1)\r\n",
        "JA_BCE_9_11_clip_masked = JA_BCE_9_11_clip_Water_percent.gt(1)\r\n",
        "JA_BCE_10_3_clip_masked = JA_BCE_10_3_clip_Water_percent.gt(1)\r\n",
        "JA_BCE_10_5_clip_masked = JA_BCE_10_5_clip_Water_percent.gt(1)\r\n",
        "JA_BCE_10_15_clip_masked = JA_BCE_10_15_clip_Water_percent.gt(1)\r\n",
        "All_JA_BCE_clip_masked = All_JA_BCE_clip_Water_percent.gt(1)\r\n",
        "##\r\n",
        "\r\n",
        "JA_BCE_9_9_waterPercentImage = JA_BCE_9_9_clip_Water_percent.updateMask(JA_BCE_9_9_clip_masked)\r\n",
        "JA_BCE_9_11_waterPercentImage = JA_BCE_9_11_clip_Water_percent.updateMask(JA_BCE_9_11_clip_masked)\r\n",
        "JA_BCE_10_3_waterPercentImage = JA_BCE_10_3_clip_Water_percent.updateMask(JA_BCE_10_3_clip_masked)\r\n",
        "JA_BCE_10_5_waterPercentImage = JA_BCE_10_5_clip_Water_percent.updateMask(JA_BCE_10_5_clip_masked)\r\n",
        "JA_BCE_10_15_waterPercentImage = JA_BCE_10_15_clip_Water_percent.updateMask(JA_BCE_10_15_clip_masked)\r\n",
        "All_JA_BCE_waterPercentImage = All_JA_BCE_clip_Water_percent.updateMask(All_JA_BCE_clip_masked)\r\n"
      ],
      "execution_count": null,
      "outputs": []
    },
    {
      "cell_type": "markdown",
      "metadata": {
        "id": "aVYofzju3_cK"
      },
      "source": [
        "# Vis"
      ]
    },
    {
      "cell_type": "code",
      "metadata": {
        "id": "wM3Z5n0D09wn"
      },
      "source": [
        "s1_vis = {\"bands\":\"VV\",\"min\":-25,\"max\":0}\r\n",
        "water_vis = {\"bands\":\"water\",\"min\":0,\"max\":1,\"palette\":\"black,navy\"}"
      ],
      "execution_count": null,
      "outputs": []
    },
    {
      "cell_type": "code",
      "metadata": {
        "id": "M2-WJ9FkHqDt"
      },
      "source": [
        "# palettes = require('users/gena/packages:palettes');\r\n",
        "# print(palettes)\r\n",
        "# # # palette = palettes.misc.tol_rainbow[7];\r\n",
        "# # # palette2 = palettes.kovesi.diverging_bwr_40_95_c42[7];\r\n",
        "# # # palette3 = palettes.crameri.roma[50];\r\n",
        "# # # palette4 = palettes.colorbrewer.Greys[9];\r\n",
        "# palette5 = palettes.cmocean.Tempo[7];\r\n",
        "\r\n",
        "water_vis_blue = {\"bands\":\"water\", \"min\": 1.5, \"max\": 2, \"palette\": \"black,navy\"}\r\n",
        "\r\n",
        "water_vis_x = {\"bands\":\"water\", \"min\": 1.5, \"max\": 2, \"palette\": '#08519c, #3182bd, #6baed6, #9ecae1, #c6dbef, #eff3ff'}\r\n",
        "\r\n",
        "water_vis_z = {\"bands\":\"water\", \"min\": 1.5, \"max\": 2, \"palette\": '#f7fbff, #deebf7, #c6dbef, #9ecae1, #6baed6, #4292c6, #2171b5, #08519c, #08306b'}\r\n"
      ],
      "execution_count": null,
      "outputs": []
    },
    {
      "cell_type": "code",
      "metadata": {
        "id": "FTuQHGtz1BTn"
      },
      "source": [
        "fig,ax = plt.subplots(nrows=2,ncols=3,figsize=(15,10), subplot_kw={'projection': ccrs.PlateCarree()}, constrained_layout=True)\r\n",
        "\r\n",
        "#plot the map over the region of interest\r\n",
        "cartoee.add_layer(ax[0][0],s1_kel,vis_params=s1_vis,region=region)\r\n",
        "cartoee.add_layer(ax[0][0],JA_BCE_9_9_waterPercentImage,vis_params=water_vis_blue,region=region)\r\n",
        "# ax[0][0].scatter(*water_pts,color=\"blue\")\r\n",
        "# ax[0][0].scatter(*nowater_pts,color=\"beige\")\r\n",
        "\r\n",
        "# # plot the map over the region of interest\r\n",
        "cartoee.add_layer(ax[0][1],s1_kel,vis_params=s1_vis,region=region)\r\n",
        "cartoee.add_layer(ax[0][1],JA_BCE_9_11_waterPercentImage,vis_params=water_vis_blue,region=region)\r\n",
        "# ax[0][1].scatter(*water_pts,color=\"blue\")\r\n",
        "# ax[0][1].scatter(*nowater_pts,color=\"beige\")\r\n",
        "\r\n",
        "# # plot the map over the region of interest\r\n",
        "cartoee.add_layer(ax[0][2],s1_kel,vis_params=s1_vis,region=region)\r\n",
        "cartoee.add_layer(ax[0][2],JA_BCE_10_3_waterPercentImage,vis_params=water_vis_blue,region=region)\r\n",
        "# ax[0][2].scatter(*water_pts,color=\"blue\")\r\n",
        "# ax[0][2].scatter(*nowater_pts,color=\"beige\")\r\n",
        "\r\n",
        "# plot the map over the region of interest\r\n",
        "cartoee.add_layer(ax[1][0],s1_kel,vis_params=s1_vis,region=region)\r\n",
        "cartoee.add_layer(ax[1][0],JA_BCE_10_5_waterPercentImage,vis_params=water_vis_blue,region=region)\r\n",
        "# ax[1][0].scatter(*water_pts,color=\"blue\")\r\n",
        "# ax[1][0].scatter(*nowater_pts,color=\"beige\")\r\n",
        "\r\n",
        "# plot the map over the region of interest\r\n",
        "cartoee.add_layer(ax[1][1],s1_kel,vis_params=s1_vis,region=region)\r\n",
        "cartoee.add_layer(ax[1][1],JA_BCE_10_15_waterPercentImage,vis_params=water_vis_blue,region=region)\r\n",
        "# ax[1][1].scatter(*water_pts,color=\"blue\")\r\n",
        "# ax[1][1].scatter(*nowater_pts,color=\"beige\")\r\n",
        "\r\n",
        "# plot the map over the region of interest\r\n",
        "cartoee.add_layer(ax[1][2],s1_kel,vis_params=s1_vis,region=region)\r\n",
        "cartoee.add_layer(ax[1][2],All_JA_BCE_waterPercentImage,vis_params=water_vis_blue,region=region)\r\n",
        "# ax[1][2].scatter(*water_pts,color=\"blue\")\r\n",
        "# ax[1][2].scatter(*nowater_pts,color=\"beige\")\r\n",
        "\r\n",
        "\r\n",
        "###############\r\n",
        "\r\n",
        "# format images and subplot titles with same dimensions as subplots\r\n",
        "imgs = np.array([[JA_BCE_9_9_waterPercentImage,JA_BCE_9_11_waterPercentImage, JA_BCE_10_3_waterPercentImage],[JA_BCE_10_5_waterPercentImage,JA_BCE_10_15_waterPercentImage, All_JA_BCE_waterPercentImage]])\r\n",
        "titles = np.array([[\"JRC Adjusted BCE_Dice: 9/9/19\", \"JRC Adjusted BCE_Dice: 9/11/19\", \"JRC Adjusted BCE_Dice: 10/3/19\"], [\"JRC Adjusted BCE_Dice: 10/5/19\", \"JRC Adjusted BCE_Dice: 10/15/19\", \"JRC Adjusted BCE_Dice: Mosaiced Map\"]])\r\n",
        "\r\n",
        "for i in range(len(imgs)):\r\n",
        "    for j in range(len(imgs[i])):\r\n",
        "        # ax[i,j] = cartoee.addLayer(imgs[i,j],ax=ax[i,j],\r\n",
        "        #                        region=region,dims=500,\r\n",
        "        #                        visParams=ndviVis,cmap='YlGn'\r\n",
        "        #                       )\r\n",
        "        ax[i,j].coastlines()\r\n",
        "        ax[i,j].gridlines(linestyle='--')\r\n",
        "        ax[i,j].set_title(titles[i,j])\r\n",
        "\r\n",
        "# plt.tight_layout()\r\n",
        "\r\n",
        "# add the gridlines and specify that the xtick labels be rotated 45 degrees\r\n",
        "cartoee.add_gridlines(ax[0][0],interval=0.5,xtick_rotation=45,linestyle=\":\")\r\n",
        "cartoee.add_gridlines(ax[0][1],interval=0.5,xtick_rotation=45,linestyle=\":\")\r\n",
        "cartoee.add_gridlines(ax[0][2],interval=0.5,xtick_rotation=45,linestyle=\":\")\r\n",
        "cartoee.add_gridlines(ax[1][0],interval=0.5,xtick_rotation=45,linestyle=\":\")\r\n",
        "cartoee.add_gridlines(ax[1][1],interval=0.5,xtick_rotation=45,linestyle=\":\")\r\n",
        "cartoee.add_gridlines(ax[1][2],interval=0.5,xtick_rotation=45,linestyle=\":\")\r\n",
        "\r\n",
        "\r\n",
        "\r\n",
        "show()"
      ],
      "execution_count": null,
      "outputs": []
    }
  ]
}